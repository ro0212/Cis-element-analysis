{
 "cells": [
  {
   "cell_type": "code",
   "execution_count": null,
   "metadata": {},
   "outputs": [
    {
     "name": "stdout",
     "output_type": "stream",
     "text": [
      "Contingency Table:\n",
      "Promoter: 26765 (Present), 151007235 (Absent)\n",
      "Rest: 190578 (Present), 1182174358 (Absent)\n",
      "\n",
      "Chi-square test p-value: 8.258999689155496e-48\n",
      "Fisher's exact test p-value: 1.0340401262636922e-46\n"
     ]
    }
   ],
   "source": [
    "from scipy.stats import chi2_contingency, fisher_exact\n",
    "\n",
    "# Given data\n",
    "promoter_present = 26765   # Motif occurrences in the promoter region\n",
    "genome_present = 217343   # Total motif occurrences in the genome\n",
    "\n",
    "# Parameters\n",
    "genome_size = 1333398936  # Total genome size in bp\n",
    "promoter_size =  151034000  # Estimated promoter size in bp\n",
    "rest_size = genome_size - promoter_size  # Size of the rest of the genome\n",
    "\n",
    "# Calculations\n",
    "rest_present = genome_present - promoter_present  # Motif occurrences in rest of the genome\n",
    "promoter_absent = promoter_size - promoter_present  # Non-motif bp in promoters\n",
    "rest_absent = rest_size - rest_present  # Non-motif bp in the rest of the genome\n",
    "\n",
    "# Create the contingency table\n",
    "contingency_table = [[promoter_present, promoter_absent],\n",
    "                     [rest_present, rest_absent]]\n",
    "\n",
    "# Perform  Chi-square\n",
    "chi2, p_value_chi2, _, _ = chi2_contingency(contingency_table)\n",
    "\n",
    "# Perform Fisher's\n",
    "_, p_value_fisher = fisher_exact(contingency_table)\n",
    "\n",
    "# results\n",
    "print(\"Contingency Table:\")\n",
    "print(f\"Promoter: {promoter_present} (Present), {promoter_absent} (Absent)\")\n",
    "print(f\"Rest: {rest_present} (Present), {rest_absent} (Absent)\\n\")\n",
    "\n",
    "print(f\"Chi-square test p-value: {p_value_chi2}\")\n",
    "print(f\"Fisher's exact test p-value: {p_value_fisher}\")\n",
    "\n"
   ]
  },
  {
   "cell_type": "code",
   "execution_count": null,
   "metadata": {},
   "outputs": [],
   "source": []
  },
  {
   "cell_type": "code",
   "execution_count": null,
   "metadata": {},
   "outputs": [],
   "source": []
  }
 ],
 "metadata": {
  "kernelspec": {
   "display_name": "QArch1",
   "language": "python",
   "name": "python3"
  },
  "language_info": {
   "codemirror_mode": {
    "name": "ipython",
    "version": 3
   },
   "file_extension": ".py",
   "mimetype": "text/x-python",
   "name": "python",
   "nbconvert_exporter": "python",
   "pygments_lexer": "ipython3",
   "version": "3.12.5"
  }
 },
 "nbformat": 4,
 "nbformat_minor": 2
}
